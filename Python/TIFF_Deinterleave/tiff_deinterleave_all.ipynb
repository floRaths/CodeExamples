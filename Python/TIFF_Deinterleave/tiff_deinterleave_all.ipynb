{
 "cells": [
  {
   "cell_type": "markdown",
   "metadata": {},
   "source": [
    "### This script accepts tiff files from microscopy time-lapse recordings and restructures channel and z-plane order to prepare the files for analysis"
   ]
  },
  {
   "cell_type": "code",
   "execution_count": null,
   "metadata": {},
   "outputs": [],
   "source": [
    "import numpy as np, os, tifffile\n",
    "from glob import glob"
   ]
  },
  {
   "cell_type": "markdown",
   "metadata": {},
   "source": [
    "### function definitions"
   ]
  },
  {
   "cell_type": "code",
   "execution_count": null,
   "metadata": {},
   "outputs": [],
   "source": [
    "# Function to deinterleave a TIFF file containing stacked composite images\n",
    "def deinterleave_TZC(input_tif: str, output_tif: str, n_channels: int, n_zplanes: int):\n",
    "    \"\"\"\n",
    "    Input TIFF is a sequence of 2D grayscale images like:\n",
    "    Page 0: frame 0, z-pos 0, channel 0 (R)\n",
    "    Page 1: frame 0, z-pos 1, channel 0 (R)\n",
    "    Page 2: frame 0, z-pos 2, channel 0 (R)\n",
    "    Page 3: frame 1, z-pos 0, channel 1 (G)\n",
    "    Page 4: frame 1, z-pos 1, channel 1 (G)\n",
    "    Page 5: frame 1, z-pos 2, channel 1 (G)\n",
    "    Page 6: frame 2, z-pos 0, channel 2 (B)\n",
    "    Page 7: frame 2, z-pos 1, channel 2 (B)\n",
    "    Page 8: frame 2, z-pos 2, channel 2 (B)\n",
    "    ...\n",
    "\n",
    "    Output TIFF is a sequence of stacked composite images\n",
    "    \"\"\"\n",
    "    \n",
    "    # Read TIFF file\n",
    "    reader = tifffile.TiffFile(input_tif)\n",
    "    n_pages = len(reader.pages)  # Total number of pages in the TIFF file\n",
    "\n",
    "    frame = reader.pages[0].asarray()  # Read the first frame to get dimensions\n",
    "    height, width = frame.shape  # Get height and width of the frames\n",
    "\n",
    "    # Check if the number of pages is divisible by (number of channels * number of z-planes)\n",
    "    assert n_pages % (n_channels * n_zplanes) == 0\n",
    "    n_timepoints = n_pages // (n_channels * n_zplanes)  # Calculate the number of timepoints\n",
    "    print(f\"number of timepoints: {n_timepoints} | number of pages: {n_pages} | frame size: {frame.shape}\")\n",
    "\n",
    "    # Initialize an empty array to store deinterleaved data\n",
    "    out = np.empty((n_timepoints, n_zplanes, n_channels, height, width), dtype=np.uint16)\n",
    "\n",
    "    # Loop through each timepoint, channel, and z-plane to deinterleave the data\n",
    "    for t in range(n_timepoints):\n",
    "        for c in range(n_channels):\n",
    "            for z in range(n_zplanes):\n",
    "                page_idx = (t * n_channels + c) * n_zplanes + z\n",
    "                out[t, z, c, :, :] = reader.pages[page_idx].asarray()  # Store the data\n",
    "        \n",
    "    # Write the deinterleaved data to a TIFF file\n",
    "    tifffile.imwrite(output_tif, out, imagej=True, metadata={'mode': 'composite'})\n",
    "\n",
    "\n",
    "# Function to trim a TIFF file to a specified frame\n",
    "def trim_tiff(input_tif: str, output_tif: str, last_frame: int):\n",
    "    # Read TIFF file\n",
    "    img = tifffile.imread(input_tif)\n",
    "    img = img[:last_frame, :, :]  # Trim the TIFF file to the specified frame\n",
    "    tifffile.imsave(output_tif, img)\n",
    "\n",
    "\n",
    "# Function to trim all TIFF files in a directory\n",
    "def trim_all_tifs_in_directory(indir: str, outdir: str, lastFrame: int):\n",
    "    # Get a list of TIFF files in the input directory\n",
    "    targets = sorted(glob(os.path.join(indir, \"*.tif\")))\n",
    "    # Check if the output directory already exists\n",
    "    if os.path.isdir(outdir):\n",
    "        raise OSError(f\"output directory {outdir} must not already exist\")\n",
    "    os.mkdir(outdir)  # Create the output directory\n",
    "    # Loop through each TIFF file, trim it, and save the trimmed version in the output directory\n",
    "    for t in targets:\n",
    "        print(f\"working on {t}\")\n",
    "        o = os.path.join(outdir, os.path.basename(t))\n",
    "        assert not os.path.isfile(o)\n",
    "        trim_tiff(t, o, lastFrame)\n",
    "\n",
    "\n",
    "# Function to deinterleave all TIFF files in a directory\n",
    "def deinterleave_all_tifs_in_directory(indir: str, outdir: str, n_chan: int, n_zpl: int):\n",
    "    # Get a list of TIFF files in the input directory\n",
    "    targets = sorted(glob(os.path.join(indir, \"*.tif\")))\n",
    "    # Check if the output directory already exists\n",
    "    if os.path.isdir(outdir):\n",
    "        raise OSError(f\"output directory {outdir} must not already exist\")\n",
    "    os.mkdir(outdir)  # Create the output directory\n",
    "    # Loop through each TIFF file, deinterleave it, and save the deinterleaved version in the output directory\n",
    "    for t in targets:\n",
    "        print(f\"working on {t}\")\n",
    "        o = os.path.join(outdir, os.path.basename(t))\n",
    "        assert not os.path.isfile(o)\n",
    "        deinterleave_TZC(t, o, n_chan, n_zpl)\n"
   ]
  },
  {
   "cell_type": "markdown",
   "metadata": {},
   "source": [
    "### Define working folder\n",
    "Which experiment and recording session do you want to deinterleave?"
   ]
  },
  {
   "cell_type": "code",
   "execution_count": 1,
   "metadata": {},
   "outputs": [],
   "source": [
    "exp_name     = \"Experiment_Title\"\n",
    "session_name = \"ImagingSession_01_1\""
   ]
  },
  {
   "cell_type": "markdown",
   "metadata": {},
   "source": [
    "### Trim files if needed\n",
    "empty or unusable frames that were caught during image aquisition can be cropped out here"
   ]
  },
  {
   "cell_type": "code",
   "execution_count": null,
   "metadata": {},
   "outputs": [],
   "source": [
    "target_dir = \"/mnt/ELNID_Data/ELN/ImagingData/\" + exp_name + \"/\" + session_name\n",
    "output_dir = \"/mnt/ELNID_Data/ELN/ImagingData/\" + exp_name + \"/\" + session_name + \"_trimmed\"\n",
    "\n",
    "trim_all_tifs_in_directory(target_dir, output_dir, lastFrame = 87)"
   ]
  },
  {
   "cell_type": "markdown",
   "metadata": {},
   "source": [
    "### DeInterleave all files"
   ]
  },
  {
   "cell_type": "code",
   "execution_count": null,
   "metadata": {},
   "outputs": [],
   "source": [
    "target_dir = \"/mnt/ELNID_Data/ELN/ImagingData/\" + exp_name + \"/\" + session_name\n",
    "output_dir = \"/mnt/ELNID_Data/ELN/ImagingData/\" + exp_name + \"/deInterleaved/\" + session_name\n",
    "\n",
    "deinterleave_all_tifs_in_directory(target_dir, output_dir, n_chan = 3, n_zpl = 1)\n"
   ]
  }
 ],
 "metadata": {
  "kernelspec": {
   "display_name": "Python 3",
   "language": "python",
   "name": "python3"
  },
  "language_info": {
   "codemirror_mode": {
    "name": "ipython",
    "version": 3
   },
   "file_extension": ".py",
   "mimetype": "text/x-python",
   "name": "python",
   "nbconvert_exporter": "python",
   "pygments_lexer": "ipython3",
   "version": "3.10.13"
  }
 },
 "nbformat": 4,
 "nbformat_minor": 2
}
